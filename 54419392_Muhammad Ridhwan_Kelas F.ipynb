{
 "cells": [
  {
   "cell_type": "markdown",
   "id": "30fce050",
   "metadata": {
    "id": "30fce050"
   },
   "source": [
    "<center>\n",
    "    <img src=\"https://drive.google.com/uc?export=view&id=1hDKusF04c0lNZA_qOShvWQrpImayVKz8\"  width=\"1000\" />\n",
    "</center>"
   ]
  },
  {
   "cell_type": "markdown",
   "id": "78957aef",
   "metadata": {
    "id": "78957aef"
   },
   "source": [
    "# Tugas Mandiri\n",
    "---\n",
    "Tugas mandiri ini digunakan pada kegiatan Kursus Data Science yang merupakan pembekalan bagi mahasiswa Universitas Gunadarma untuk Skema Associate Data Scientist"
   ]
  },
  {
   "cell_type": "markdown",
   "id": "e1d3e6a4",
   "metadata": {
    "id": "e1d3e6a4"
   },
   "source": [
    "### Pertemuan 4 - Semester 8"
   ]
  },
  {
   "cell_type": "markdown",
   "id": "13edd692",
   "metadata": {
    "id": "13edd692"
   },
   "source": [
    "1. Buatlah model klasifikasi dengan machine learning dari dataset yang diberikan dengan ketentuan :\n",
    "    - Gunakan metode CRISP-DM secara terurut dan lengkap\n",
    "    - Gunakan algoritma linear regression, logistic regression, dan K-NN\n",
    "\n",
    "2. Dari ketiga algoritma yang anda pakai, algoritma yang manakah yang memiliki akurasi paling tinggi?"
   ]
  },
  {
   "cell_type": "markdown",
   "id": "4db49097-5dcd-41f5-8f91-65799a7290ac",
   "metadata": {
    "tags": []
   },
   "source": [
    "# Pengumpulan Data (Data Collection)"
   ]
  },
  {
   "cell_type": "code",
   "execution_count": 47,
   "id": "4512fb96-4588-436f-b274-7c0a27032189",
   "metadata": {},
   "outputs": [],
   "source": [
    "import pandas as pd\n",
    "import numpy as np\n",
    "import matplotlib.pyplot as plt\n",
    "import seaborn as sns\n",
    "from sklearn import preprocessing\n",
    "from sklearn.model_selection import train_test_split\n",
    "from sklearn.linear_model import LogisticRegression\n",
    "from sklearn.neighbors import KNeighborsClassifier\n",
    "from sklearn.linear_model import LinearRegression\n",
    "from sklearn.metrics import accuracy_score"
   ]
  },
  {
   "cell_type": "code",
   "execution_count": 2,
   "id": "05748216-2de8-4d2e-a82a-326b77d7b3ec",
   "metadata": {},
   "outputs": [],
   "source": [
    "df = pd.read_csv('dataset_tm_10k.csv')"
   ]
  },
  {
   "cell_type": "markdown",
   "id": "fb157555-73c6-44f9-9b15-54aa1c6015af",
   "metadata": {
    "tags": []
   },
   "source": [
    "# Menelaah Data (Data Understanding)"
   ]
  },
  {
   "cell_type": "code",
   "execution_count": 3,
   "id": "9da8a8ba-be56-469a-a204-18f6391be784",
   "metadata": {},
   "outputs": [
    {
     "data": {
      "text/html": [
       "<div>\n",
       "<style scoped>\n",
       "    .dataframe tbody tr th:only-of-type {\n",
       "        vertical-align: middle;\n",
       "    }\n",
       "\n",
       "    .dataframe tbody tr th {\n",
       "        vertical-align: top;\n",
       "    }\n",
       "\n",
       "    .dataframe thead th {\n",
       "        text-align: right;\n",
       "    }\n",
       "</style>\n",
       "<table border=\"1\" class=\"dataframe\">\n",
       "  <thead>\n",
       "    <tr style=\"text-align: right;\">\n",
       "      <th></th>\n",
       "      <th>Flight</th>\n",
       "      <th>Time</th>\n",
       "      <th>Length</th>\n",
       "      <th>Airline</th>\n",
       "      <th>AirportFrom</th>\n",
       "      <th>AirportTo</th>\n",
       "      <th>DayOfWeek</th>\n",
       "      <th>Class</th>\n",
       "    </tr>\n",
       "  </thead>\n",
       "  <tbody>\n",
       "    <tr>\n",
       "      <th>0</th>\n",
       "      <td>320.0</td>\n",
       "      <td>870.0</td>\n",
       "      <td>180.0</td>\n",
       "      <td>NaN</td>\n",
       "      <td>IAH</td>\n",
       "      <td>PHX</td>\n",
       "      <td>5</td>\n",
       "      <td>0</td>\n",
       "    </tr>\n",
       "    <tr>\n",
       "      <th>1</th>\n",
       "      <td>3045.0</td>\n",
       "      <td>365.0</td>\n",
       "      <td>66.0</td>\n",
       "      <td>OO</td>\n",
       "      <td>DSM</td>\n",
       "      <td>MKE</td>\n",
       "      <td>2</td>\n",
       "      <td>0</td>\n",
       "    </tr>\n",
       "    <tr>\n",
       "      <th>2</th>\n",
       "      <td>1560.0</td>\n",
       "      <td>740.0</td>\n",
       "      <td>257.0</td>\n",
       "      <td>DL</td>\n",
       "      <td>SEA</td>\n",
       "      <td>CVG</td>\n",
       "      <td>7</td>\n",
       "      <td>0</td>\n",
       "    </tr>\n",
       "    <tr>\n",
       "      <th>3</th>\n",
       "      <td>1156.0</td>\n",
       "      <td>595.0</td>\n",
       "      <td>235.0</td>\n",
       "      <td>WN</td>\n",
       "      <td>SNA</td>\n",
       "      <td>MDW</td>\n",
       "      <td>7</td>\n",
       "      <td>1</td>\n",
       "    </tr>\n",
       "    <tr>\n",
       "      <th>4</th>\n",
       "      <td>1873.0</td>\n",
       "      <td>530.0</td>\n",
       "      <td>133.0</td>\n",
       "      <td>CO</td>\n",
       "      <td>IAH</td>\n",
       "      <td>MCO</td>\n",
       "      <td>6</td>\n",
       "      <td>1</td>\n",
       "    </tr>\n",
       "  </tbody>\n",
       "</table>\n",
       "</div>"
      ],
      "text/plain": [
       "   Flight   Time  Length Airline AirportFrom AirportTo  DayOfWeek  Class\n",
       "0   320.0  870.0   180.0     NaN         IAH       PHX          5      0\n",
       "1  3045.0  365.0    66.0      OO         DSM       MKE          2      0\n",
       "2  1560.0  740.0   257.0      DL         SEA       CVG          7      0\n",
       "3  1156.0  595.0   235.0      WN         SNA       MDW          7      1\n",
       "4  1873.0  530.0   133.0      CO         IAH       MCO          6      1"
      ]
     },
     "execution_count": 3,
     "metadata": {},
     "output_type": "execute_result"
    }
   ],
   "source": [
    "# Menampilkan 5 data teratas pada DataFrame\n",
    "df.head()"
   ]
  },
  {
   "cell_type": "code",
   "execution_count": 4,
   "id": "e889e0e9-b75d-49d1-9b95-418f19af6e4e",
   "metadata": {},
   "outputs": [
    {
     "data": {
      "text/html": [
       "<div>\n",
       "<style scoped>\n",
       "    .dataframe tbody tr th:only-of-type {\n",
       "        vertical-align: middle;\n",
       "    }\n",
       "\n",
       "    .dataframe tbody tr th {\n",
       "        vertical-align: top;\n",
       "    }\n",
       "\n",
       "    .dataframe thead th {\n",
       "        text-align: right;\n",
       "    }\n",
       "</style>\n",
       "<table border=\"1\" class=\"dataframe\">\n",
       "  <thead>\n",
       "    <tr style=\"text-align: right;\">\n",
       "      <th></th>\n",
       "      <th>Flight</th>\n",
       "      <th>Time</th>\n",
       "      <th>Length</th>\n",
       "      <th>Airline</th>\n",
       "      <th>AirportFrom</th>\n",
       "      <th>AirportTo</th>\n",
       "      <th>DayOfWeek</th>\n",
       "      <th>Class</th>\n",
       "    </tr>\n",
       "  </thead>\n",
       "  <tbody>\n",
       "    <tr>\n",
       "      <th>10782</th>\n",
       "      <td>2821.0</td>\n",
       "      <td>610.0</td>\n",
       "      <td>50.0</td>\n",
       "      <td>MQ</td>\n",
       "      <td>DFW</td>\n",
       "      <td>SPS</td>\n",
       "      <td>2</td>\n",
       "      <td>0</td>\n",
       "    </tr>\n",
       "    <tr>\n",
       "      <th>10783</th>\n",
       "      <td>2618.0</td>\n",
       "      <td>839.0</td>\n",
       "      <td>118.0</td>\n",
       "      <td>XE</td>\n",
       "      <td>SDF</td>\n",
       "      <td>EWR</td>\n",
       "      <td>2</td>\n",
       "      <td>0</td>\n",
       "    </tr>\n",
       "    <tr>\n",
       "      <th>10784</th>\n",
       "      <td>1973.0</td>\n",
       "      <td>1160.0</td>\n",
       "      <td>124.0</td>\n",
       "      <td>DL</td>\n",
       "      <td>ATL</td>\n",
       "      <td>MIA</td>\n",
       "      <td>2</td>\n",
       "      <td>0</td>\n",
       "    </tr>\n",
       "    <tr>\n",
       "      <th>10785</th>\n",
       "      <td>528.0</td>\n",
       "      <td>1275.0</td>\n",
       "      <td>112.0</td>\n",
       "      <td>US</td>\n",
       "      <td>PHX</td>\n",
       "      <td>RNO</td>\n",
       "      <td>4</td>\n",
       "      <td>0</td>\n",
       "    </tr>\n",
       "    <tr>\n",
       "      <th>10786</th>\n",
       "      <td>2254.0</td>\n",
       "      <td>970.0</td>\n",
       "      <td>NaN</td>\n",
       "      <td>DL</td>\n",
       "      <td>ATL</td>\n",
       "      <td>CMH</td>\n",
       "      <td>4</td>\n",
       "      <td>1</td>\n",
       "    </tr>\n",
       "  </tbody>\n",
       "</table>\n",
       "</div>"
      ],
      "text/plain": [
       "       Flight    Time  Length Airline AirportFrom AirportTo  DayOfWeek  Class\n",
       "10782  2821.0   610.0    50.0      MQ         DFW       SPS          2      0\n",
       "10783  2618.0   839.0   118.0      XE         SDF       EWR          2      0\n",
       "10784  1973.0  1160.0   124.0      DL         ATL       MIA          2      0\n",
       "10785   528.0  1275.0   112.0      US         PHX       RNO          4      0\n",
       "10786  2254.0   970.0     NaN      DL         ATL       CMH          4      1"
      ]
     },
     "execution_count": 4,
     "metadata": {},
     "output_type": "execute_result"
    }
   ],
   "source": [
    "# Menampilkan 5 data terbawah \n",
    "df.tail()"
   ]
  },
  {
   "cell_type": "code",
   "execution_count": 5,
   "id": "21a76fb3-191f-4bf6-b045-e680696d9d7e",
   "metadata": {},
   "outputs": [
    {
     "data": {
      "text/html": [
       "<div>\n",
       "<style scoped>\n",
       "    .dataframe tbody tr th:only-of-type {\n",
       "        vertical-align: middle;\n",
       "    }\n",
       "\n",
       "    .dataframe tbody tr th {\n",
       "        vertical-align: top;\n",
       "    }\n",
       "\n",
       "    .dataframe thead th {\n",
       "        text-align: right;\n",
       "    }\n",
       "</style>\n",
       "<table border=\"1\" class=\"dataframe\">\n",
       "  <thead>\n",
       "    <tr style=\"text-align: right;\">\n",
       "      <th></th>\n",
       "      <th>Flight</th>\n",
       "      <th>Time</th>\n",
       "      <th>Length</th>\n",
       "      <th>Airline</th>\n",
       "      <th>AirportFrom</th>\n",
       "      <th>AirportTo</th>\n",
       "      <th>DayOfWeek</th>\n",
       "      <th>Class</th>\n",
       "    </tr>\n",
       "  </thead>\n",
       "  <tbody>\n",
       "    <tr>\n",
       "      <th>4571</th>\n",
       "      <td>1452.0</td>\n",
       "      <td>852.0</td>\n",
       "      <td>88.0</td>\n",
       "      <td>DL</td>\n",
       "      <td>ATL</td>\n",
       "      <td>CVG</td>\n",
       "      <td>5</td>\n",
       "      <td>0</td>\n",
       "    </tr>\n",
       "    <tr>\n",
       "      <th>545</th>\n",
       "      <td>1861.0</td>\n",
       "      <td>980.0</td>\n",
       "      <td>153.0</td>\n",
       "      <td>CO</td>\n",
       "      <td>PHX</td>\n",
       "      <td>IAH</td>\n",
       "      <td>4</td>\n",
       "      <td>1</td>\n",
       "    </tr>\n",
       "    <tr>\n",
       "      <th>2196</th>\n",
       "      <td>2445.0</td>\n",
       "      <td>1210.0</td>\n",
       "      <td>80.0</td>\n",
       "      <td>WN</td>\n",
       "      <td>BUR</td>\n",
       "      <td>PHX</td>\n",
       "      <td>4</td>\n",
       "      <td>0</td>\n",
       "    </tr>\n",
       "    <tr>\n",
       "      <th>625</th>\n",
       "      <td>108.0</td>\n",
       "      <td>930.0</td>\n",
       "      <td>93.0</td>\n",
       "      <td>DL</td>\n",
       "      <td>MCO</td>\n",
       "      <td>ATL</td>\n",
       "      <td>5</td>\n",
       "      <td>0</td>\n",
       "    </tr>\n",
       "    <tr>\n",
       "      <th>4569</th>\n",
       "      <td>1877.0</td>\n",
       "      <td>1360.0</td>\n",
       "      <td>190.0</td>\n",
       "      <td>AA</td>\n",
       "      <td>DFW</td>\n",
       "      <td>LAS</td>\n",
       "      <td>3</td>\n",
       "      <td>0</td>\n",
       "    </tr>\n",
       "    <tr>\n",
       "      <th>3625</th>\n",
       "      <td>2459.0</td>\n",
       "      <td>759.0</td>\n",
       "      <td>172.0</td>\n",
       "      <td>XE</td>\n",
       "      <td>CLT</td>\n",
       "      <td>IAH</td>\n",
       "      <td>5</td>\n",
       "      <td>0</td>\n",
       "    </tr>\n",
       "    <tr>\n",
       "      <th>7152</th>\n",
       "      <td>4776.0</td>\n",
       "      <td>916.0</td>\n",
       "      <td>99.0</td>\n",
       "      <td>OO</td>\n",
       "      <td>SLC</td>\n",
       "      <td>PSC</td>\n",
       "      <td>2</td>\n",
       "      <td>0</td>\n",
       "    </tr>\n",
       "    <tr>\n",
       "      <th>4442</th>\n",
       "      <td>5313.0</td>\n",
       "      <td>360.0</td>\n",
       "      <td>105.0</td>\n",
       "      <td>EV</td>\n",
       "      <td>EWN</td>\n",
       "      <td>ATL</td>\n",
       "      <td>4</td>\n",
       "      <td>0</td>\n",
       "    </tr>\n",
       "    <tr>\n",
       "      <th>2711</th>\n",
       "      <td>287.0</td>\n",
       "      <td>1060.0</td>\n",
       "      <td>117.0</td>\n",
       "      <td>US</td>\n",
       "      <td>PHX</td>\n",
       "      <td>SJC</td>\n",
       "      <td>5</td>\n",
       "      <td>0</td>\n",
       "    </tr>\n",
       "    <tr>\n",
       "      <th>3305</th>\n",
       "      <td>488.0</td>\n",
       "      <td>458.0</td>\n",
       "      <td>169.0</td>\n",
       "      <td>F9</td>\n",
       "      <td>MKE</td>\n",
       "      <td>MCO</td>\n",
       "      <td>5</td>\n",
       "      <td>1</td>\n",
       "    </tr>\n",
       "  </tbody>\n",
       "</table>\n",
       "</div>"
      ],
      "text/plain": [
       "      Flight    Time  Length Airline AirportFrom AirportTo  DayOfWeek  Class\n",
       "4571  1452.0   852.0    88.0      DL         ATL       CVG          5      0\n",
       "545   1861.0   980.0   153.0      CO         PHX       IAH          4      1\n",
       "2196  2445.0  1210.0    80.0      WN         BUR       PHX          4      0\n",
       "625    108.0   930.0    93.0      DL         MCO       ATL          5      0\n",
       "4569  1877.0  1360.0   190.0      AA         DFW       LAS          3      0\n",
       "3625  2459.0   759.0   172.0      XE         CLT       IAH          5      0\n",
       "7152  4776.0   916.0    99.0      OO         SLC       PSC          2      0\n",
       "4442  5313.0   360.0   105.0      EV         EWN       ATL          4      0\n",
       "2711   287.0  1060.0   117.0      US         PHX       SJC          5      0\n",
       "3305   488.0   458.0   169.0      F9         MKE       MCO          5      1"
      ]
     },
     "execution_count": 5,
     "metadata": {},
     "output_type": "execute_result"
    }
   ],
   "source": [
    "# Mengambil sampel acak 10 baris dari DataFrame\n",
    "df.sample(n=10, random_state=1)"
   ]
  },
  {
   "cell_type": "code",
   "execution_count": 6,
   "id": "d41f1e11-63e6-42f1-9b10-3236d1815ada",
   "metadata": {},
   "outputs": [
    {
     "data": {
      "text/plain": [
       "Index(['Flight', 'Time', 'Length', 'Airline', 'AirportFrom', 'AirportTo',\n",
       "       'DayOfWeek', 'Class'],\n",
       "      dtype='object')"
      ]
     },
     "execution_count": 6,
     "metadata": {},
     "output_type": "execute_result"
    }
   ],
   "source": [
    "# Menampilkan nama kolom / atribut / features DataFrame\n",
    "df.columns"
   ]
  },
  {
   "cell_type": "code",
   "execution_count": 7,
   "id": "84e82d8f-eaf8-49a9-953f-9b70ad757111",
   "metadata": {},
   "outputs": [
    {
     "data": {
      "text/plain": [
       "(10787, 8)"
      ]
     },
     "execution_count": 7,
     "metadata": {},
     "output_type": "execute_result"
    }
   ],
   "source": [
    "# Menampilkan dimensi DataFrame\n",
    "df.shape"
   ]
  },
  {
   "cell_type": "code",
   "execution_count": 8,
   "id": "1b356ab9-971e-463c-b4b2-26839ff82c04",
   "metadata": {},
   "outputs": [
    {
     "data": {
      "text/plain": [
       "Flight         float64\n",
       "Time           float64\n",
       "Length         float64\n",
       "Airline         object\n",
       "AirportFrom     object\n",
       "AirportTo       object\n",
       "DayOfWeek        int64\n",
       "Class            int64\n",
       "dtype: object"
      ]
     },
     "execution_count": 8,
     "metadata": {},
     "output_type": "execute_result"
    }
   ],
   "source": [
    "# Menampilkan tipe data tiap kolom / atribut / features\n",
    "df.dtypes"
   ]
  },
  {
   "cell_type": "code",
   "execution_count": 9,
   "id": "d468ecb6-9969-46bc-b33d-c9da1e4f7e65",
   "metadata": {},
   "outputs": [
    {
     "name": "stdout",
     "output_type": "stream",
     "text": [
      "<class 'pandas.core.frame.DataFrame'>\n",
      "RangeIndex: 10787 entries, 0 to 10786\n",
      "Data columns (total 8 columns):\n",
      " #   Column       Non-Null Count  Dtype  \n",
      "---  ------       --------------  -----  \n",
      " 0   Flight       10787 non-null  float64\n",
      " 1   Time         9914 non-null   float64\n",
      " 2   Length       9444 non-null   float64\n",
      " 3   Airline      10205 non-null  object \n",
      " 4   AirportFrom  10787 non-null  object \n",
      " 5   AirportTo    10787 non-null  object \n",
      " 6   DayOfWeek    10787 non-null  int64  \n",
      " 7   Class        10787 non-null  int64  \n",
      "dtypes: float64(3), int64(2), object(3)\n",
      "memory usage: 674.3+ KB\n"
     ]
    }
   ],
   "source": [
    "# Mengetahui informasi terkait DataFrame\n",
    "df.info()"
   ]
  },
  {
   "cell_type": "code",
   "execution_count": 10,
   "id": "993a4c32-2c18-450d-9fdf-5fde0bef1508",
   "metadata": {},
   "outputs": [
    {
     "data": {
      "text/html": [
       "<div>\n",
       "<style scoped>\n",
       "    .dataframe tbody tr th:only-of-type {\n",
       "        vertical-align: middle;\n",
       "    }\n",
       "\n",
       "    .dataframe tbody tr th {\n",
       "        vertical-align: top;\n",
       "    }\n",
       "\n",
       "    .dataframe thead th {\n",
       "        text-align: right;\n",
       "    }\n",
       "</style>\n",
       "<table border=\"1\" class=\"dataframe\">\n",
       "  <thead>\n",
       "    <tr style=\"text-align: right;\">\n",
       "      <th></th>\n",
       "      <th>Flight</th>\n",
       "      <th>Time</th>\n",
       "      <th>Length</th>\n",
       "      <th>DayOfWeek</th>\n",
       "      <th>Class</th>\n",
       "    </tr>\n",
       "  </thead>\n",
       "  <tbody>\n",
       "    <tr>\n",
       "      <th>count</th>\n",
       "      <td>10787.000000</td>\n",
       "      <td>9914.000000</td>\n",
       "      <td>9444.000000</td>\n",
       "      <td>10787.000000</td>\n",
       "      <td>10787.000000</td>\n",
       "    </tr>\n",
       "    <tr>\n",
       "      <th>mean</th>\n",
       "      <td>2435.506999</td>\n",
       "      <td>803.378253</td>\n",
       "      <td>133.429161</td>\n",
       "      <td>3.895430</td>\n",
       "      <td>0.447576</td>\n",
       "    </tr>\n",
       "    <tr>\n",
       "      <th>std</th>\n",
       "      <td>2071.935213</td>\n",
       "      <td>276.880784</td>\n",
       "      <td>71.861876</td>\n",
       "      <td>1.923294</td>\n",
       "      <td>0.497267</td>\n",
       "    </tr>\n",
       "    <tr>\n",
       "      <th>min</th>\n",
       "      <td>1.000000</td>\n",
       "      <td>15.000000</td>\n",
       "      <td>29.000000</td>\n",
       "      <td>1.000000</td>\n",
       "      <td>0.000000</td>\n",
       "    </tr>\n",
       "    <tr>\n",
       "      <th>25%</th>\n",
       "      <td>720.000000</td>\n",
       "      <td>570.000000</td>\n",
       "      <td>81.000000</td>\n",
       "      <td>2.000000</td>\n",
       "      <td>0.000000</td>\n",
       "    </tr>\n",
       "    <tr>\n",
       "      <th>50%</th>\n",
       "      <td>1798.000000</td>\n",
       "      <td>795.000000</td>\n",
       "      <td>116.000000</td>\n",
       "      <td>4.000000</td>\n",
       "      <td>0.000000</td>\n",
       "    </tr>\n",
       "    <tr>\n",
       "      <th>75%</th>\n",
       "      <td>3785.500000</td>\n",
       "      <td>1034.000000</td>\n",
       "      <td>164.000000</td>\n",
       "      <td>5.000000</td>\n",
       "      <td>1.000000</td>\n",
       "    </tr>\n",
       "    <tr>\n",
       "      <th>max</th>\n",
       "      <td>7812.000000</td>\n",
       "      <td>1439.000000</td>\n",
       "      <td>655.000000</td>\n",
       "      <td>7.000000</td>\n",
       "      <td>1.000000</td>\n",
       "    </tr>\n",
       "  </tbody>\n",
       "</table>\n",
       "</div>"
      ],
      "text/plain": [
       "             Flight         Time       Length     DayOfWeek         Class\n",
       "count  10787.000000  9914.000000  9444.000000  10787.000000  10787.000000\n",
       "mean    2435.506999   803.378253   133.429161      3.895430      0.447576\n",
       "std     2071.935213   276.880784    71.861876      1.923294      0.497267\n",
       "min        1.000000    15.000000    29.000000      1.000000      0.000000\n",
       "25%      720.000000   570.000000    81.000000      2.000000      0.000000\n",
       "50%     1798.000000   795.000000   116.000000      4.000000      0.000000\n",
       "75%     3785.500000  1034.000000   164.000000      5.000000      1.000000\n",
       "max     7812.000000  1439.000000   655.000000      7.000000      1.000000"
      ]
     },
     "execution_count": 10,
     "metadata": {},
     "output_type": "execute_result"
    }
   ],
   "source": [
    "# Menampilkan ringkasan statistik DataFrame\n",
    "df.describe()"
   ]
  },
  {
   "cell_type": "code",
   "execution_count": 11,
   "id": "6509b8e9-e45c-44cf-9b88-64285920a3c9",
   "metadata": {},
   "outputs": [
    {
     "data": {
      "text/html": [
       "<div>\n",
       "<style scoped>\n",
       "    .dataframe tbody tr th:only-of-type {\n",
       "        vertical-align: middle;\n",
       "    }\n",
       "\n",
       "    .dataframe tbody tr th {\n",
       "        vertical-align: top;\n",
       "    }\n",
       "\n",
       "    .dataframe thead th {\n",
       "        text-align: right;\n",
       "    }\n",
       "</style>\n",
       "<table border=\"1\" class=\"dataframe\">\n",
       "  <thead>\n",
       "    <tr style=\"text-align: right;\">\n",
       "      <th></th>\n",
       "      <th>Flight</th>\n",
       "      <th>Time</th>\n",
       "      <th>Length</th>\n",
       "      <th>Airline</th>\n",
       "      <th>AirportFrom</th>\n",
       "      <th>AirportTo</th>\n",
       "      <th>DayOfWeek</th>\n",
       "      <th>Class</th>\n",
       "    </tr>\n",
       "  </thead>\n",
       "  <tbody>\n",
       "    <tr>\n",
       "      <th>count</th>\n",
       "      <td>10787.000000</td>\n",
       "      <td>9914.000000</td>\n",
       "      <td>9444.000000</td>\n",
       "      <td>10205</td>\n",
       "      <td>10787</td>\n",
       "      <td>10787</td>\n",
       "      <td>10787.000000</td>\n",
       "      <td>10787.000000</td>\n",
       "    </tr>\n",
       "    <tr>\n",
       "      <th>unique</th>\n",
       "      <td>NaN</td>\n",
       "      <td>NaN</td>\n",
       "      <td>NaN</td>\n",
       "      <td>18</td>\n",
       "      <td>270</td>\n",
       "      <td>265</td>\n",
       "      <td>NaN</td>\n",
       "      <td>NaN</td>\n",
       "    </tr>\n",
       "    <tr>\n",
       "      <th>top</th>\n",
       "      <td>NaN</td>\n",
       "      <td>NaN</td>\n",
       "      <td>NaN</td>\n",
       "      <td>WN</td>\n",
       "      <td>ATL</td>\n",
       "      <td>ATL</td>\n",
       "      <td>NaN</td>\n",
       "      <td>NaN</td>\n",
       "    </tr>\n",
       "    <tr>\n",
       "      <th>freq</th>\n",
       "      <td>NaN</td>\n",
       "      <td>NaN</td>\n",
       "      <td>NaN</td>\n",
       "      <td>1795</td>\n",
       "      <td>687</td>\n",
       "      <td>708</td>\n",
       "      <td>NaN</td>\n",
       "      <td>NaN</td>\n",
       "    </tr>\n",
       "    <tr>\n",
       "      <th>mean</th>\n",
       "      <td>2435.506999</td>\n",
       "      <td>803.378253</td>\n",
       "      <td>133.429161</td>\n",
       "      <td>NaN</td>\n",
       "      <td>NaN</td>\n",
       "      <td>NaN</td>\n",
       "      <td>3.895430</td>\n",
       "      <td>0.447576</td>\n",
       "    </tr>\n",
       "    <tr>\n",
       "      <th>std</th>\n",
       "      <td>2071.935213</td>\n",
       "      <td>276.880784</td>\n",
       "      <td>71.861876</td>\n",
       "      <td>NaN</td>\n",
       "      <td>NaN</td>\n",
       "      <td>NaN</td>\n",
       "      <td>1.923294</td>\n",
       "      <td>0.497267</td>\n",
       "    </tr>\n",
       "    <tr>\n",
       "      <th>min</th>\n",
       "      <td>1.000000</td>\n",
       "      <td>15.000000</td>\n",
       "      <td>29.000000</td>\n",
       "      <td>NaN</td>\n",
       "      <td>NaN</td>\n",
       "      <td>NaN</td>\n",
       "      <td>1.000000</td>\n",
       "      <td>0.000000</td>\n",
       "    </tr>\n",
       "    <tr>\n",
       "      <th>25%</th>\n",
       "      <td>720.000000</td>\n",
       "      <td>570.000000</td>\n",
       "      <td>81.000000</td>\n",
       "      <td>NaN</td>\n",
       "      <td>NaN</td>\n",
       "      <td>NaN</td>\n",
       "      <td>2.000000</td>\n",
       "      <td>0.000000</td>\n",
       "    </tr>\n",
       "    <tr>\n",
       "      <th>50%</th>\n",
       "      <td>1798.000000</td>\n",
       "      <td>795.000000</td>\n",
       "      <td>116.000000</td>\n",
       "      <td>NaN</td>\n",
       "      <td>NaN</td>\n",
       "      <td>NaN</td>\n",
       "      <td>4.000000</td>\n",
       "      <td>0.000000</td>\n",
       "    </tr>\n",
       "    <tr>\n",
       "      <th>75%</th>\n",
       "      <td>3785.500000</td>\n",
       "      <td>1034.000000</td>\n",
       "      <td>164.000000</td>\n",
       "      <td>NaN</td>\n",
       "      <td>NaN</td>\n",
       "      <td>NaN</td>\n",
       "      <td>5.000000</td>\n",
       "      <td>1.000000</td>\n",
       "    </tr>\n",
       "    <tr>\n",
       "      <th>max</th>\n",
       "      <td>7812.000000</td>\n",
       "      <td>1439.000000</td>\n",
       "      <td>655.000000</td>\n",
       "      <td>NaN</td>\n",
       "      <td>NaN</td>\n",
       "      <td>NaN</td>\n",
       "      <td>7.000000</td>\n",
       "      <td>1.000000</td>\n",
       "    </tr>\n",
       "  </tbody>\n",
       "</table>\n",
       "</div>"
      ],
      "text/plain": [
       "              Flight         Time       Length Airline AirportFrom AirportTo  \\\n",
       "count   10787.000000  9914.000000  9444.000000   10205       10787     10787   \n",
       "unique           NaN          NaN          NaN      18         270       265   \n",
       "top              NaN          NaN          NaN      WN         ATL       ATL   \n",
       "freq             NaN          NaN          NaN    1795         687       708   \n",
       "mean     2435.506999   803.378253   133.429161     NaN         NaN       NaN   \n",
       "std      2071.935213   276.880784    71.861876     NaN         NaN       NaN   \n",
       "min         1.000000    15.000000    29.000000     NaN         NaN       NaN   \n",
       "25%       720.000000   570.000000    81.000000     NaN         NaN       NaN   \n",
       "50%      1798.000000   795.000000   116.000000     NaN         NaN       NaN   \n",
       "75%      3785.500000  1034.000000   164.000000     NaN         NaN       NaN   \n",
       "max      7812.000000  1439.000000   655.000000     NaN         NaN       NaN   \n",
       "\n",
       "           DayOfWeek         Class  \n",
       "count   10787.000000  10787.000000  \n",
       "unique           NaN           NaN  \n",
       "top              NaN           NaN  \n",
       "freq             NaN           NaN  \n",
       "mean        3.895430      0.447576  \n",
       "std         1.923294      0.497267  \n",
       "min         1.000000      0.000000  \n",
       "25%         2.000000      0.000000  \n",
       "50%         4.000000      0.000000  \n",
       "75%         5.000000      1.000000  \n",
       "max         7.000000      1.000000  "
      ]
     },
     "execution_count": 11,
     "metadata": {},
     "output_type": "execute_result"
    }
   ],
   "source": [
    "# Menampilkan ringkasan pada DataFrame baik itu kolom numerik maupun non numerik  \n",
    "df.describe(include='all')"
   ]
  },
  {
   "cell_type": "code",
   "execution_count": 12,
   "id": "dc0aa06e-90d8-490b-a880-6f4e4518bd14",
   "metadata": {},
   "outputs": [
    {
     "data": {
      "image/png": "[encoded data removed]",
      "text/plain": [
       "<Figure size 432x288 with 1 Axes>"
      ]
     },
     "metadata": {
      "needs_background": "light"
     },
     "output_type": "display_data"
    },
    {
     "data": {
      "image/png": "[encoded data removed]",
      "text/plain": [
       "<Figure size 432x288 with 1 Axes>"
      ]
     },
     "metadata": {
      "needs_background": "light"
     },
     "output_type": "display_data"
    },
    {
     "data": {
      "image/png": "[encoded data removed]",
      "text/plain": [
       "<Figure size 432x288 with 1 Axes>"
      ]
     },
     "metadata": {
      "needs_background": "light"
     },
     "output_type": "display_data"
    },
    {
     "data": {
      "image/png": "[encoded data removed]",
      "text/plain": [
       "<Figure size 432x288 with 1 Axes>"
      ]
     },
     "metadata": {
      "needs_background": "light"
     },
     "output_type": "display_data"
    },
    {
     "data": {
      "image/png": "[encoded data removed]",
      "text/plain": [
       "<Figure size 432x288 with 1 Axes>"
      ]
     },
     "metadata": {
      "needs_background": "light"
     },
     "output_type": "display_data"
    }
   ],
   "source": [
    "# Menampilkan visualisasi histogram\n",
    "df_col = df.select_dtypes(exclude='object').columns.to_list()\n",
    "for col in df_col:\n",
    "    plt.hist(df[col])\n",
    "    plt.title(col)\n",
    "    plt.show()"
   ]
  },
  {
   "cell_type": "code",
   "execution_count": 13,
   "id": "5937a9e1-0090-43a8-b488-cfe85123092b",
   "metadata": {},
   "outputs": [
    {
     "data": {
      "image/png": "[encoded data removed]",
      "text/plain": [
       "<Figure size 1008x720 with 4 Axes>"
      ]
     },
     "metadata": {
      "needs_background": "light"
     },
     "output_type": "display_data"
    }
   ],
   "source": [
    "# Visualisasi pada kolom class dan DayOfWeek\n",
    "fig, axes = plt.subplots(2,2, figsize=(14,10))\n",
    "sns.countplot(x='Class', data = df, ax = axes[0][0])\n",
    "axes[0][0].set_title('Class')\n",
    "\n",
    "axes[0][1].set_title('Percentage Class')\n",
    "axes[0][1].pie(df['Class'].value_counts(), labels=df['Class'].value_counts().index.to_list(), autopct='%1.1f%%', textprops={'fontsize': 18})\n",
    "\n",
    "sns.countplot(x='DayOfWeek', data = df, ax = axes[1][0], hue='Class')\n",
    "axes[1][0].set_title('DayOfWeek')\n",
    "\n",
    "axes[1][1].set_title('Percentage DayOfWeek')\n",
    "axes[1][1].pie(df['DayOfWeek'].value_counts(), labels=df['DayOfWeek'].value_counts().index.to_list(), autopct='%1.1f%%', textprops={'fontsize': 10})\n",
    "\n",
    "plt.show()"
   ]
  },
  {
   "cell_type": "code",
   "execution_count": 14,
   "id": "fef75e60-f943-4291-a6ee-5cb6a2628e78",
   "metadata": {},
   "outputs": [
    {
     "data": {
      "text/plain": [
       "Text(0.5, 1.0, 'Jumlah Penerbangan dalam 1 Minggu')"
      ]
     },
     "execution_count": 14,
     "metadata": {},
     "output_type": "execute_result"
    },
    {
     "data": {
      "image/png": "[encoded data removed]",
      "text/plain": [
       "<Figure size 432x288 with 1 Axes>"
      ]
     },
     "metadata": {
      "needs_background": "light"
     },
     "output_type": "display_data"
    }
   ],
   "source": [
    "## Melihat Jumlah Penerbangan dalam 1 Minggu - Line Chart\n",
    "df['DayOfWeek'].value_counts().sort_index().plot()\n",
    "plt.xlabel('Hari')\n",
    "plt.ylabel('Jumlah')\n",
    "plt.title('Jumlah Penerbangan dalam 1 Minggu')"
   ]
  },
  {
   "cell_type": "code",
   "execution_count": 15,
   "id": "52a26291-8cbf-4035-bf59-d0712321458c",
   "metadata": {},
   "outputs": [
    {
     "data": {
      "image/png": "[encoded data removed]",
      "text/plain": [
       "<Figure size 432x288 with 1 Axes>"
      ]
     },
     "metadata": {
      "needs_background": "light"
     },
     "output_type": "display_data"
    }
   ],
   "source": [
    "# Jumlah Penerbangan Masing - Masing Airline\n",
    "airline_sort = df['Airline'].value_counts().sort_values(ascending=False).index.to_list()\n",
    "sns.countplot(x='Airline', data = df, order=airline_sort)\n",
    "plt.title(\"Jumlah Penerbangan\")\n",
    "plt.show()"
   ]
  },
  {
   "cell_type": "code",
   "execution_count": 16,
   "id": "7b4ae18e-1d60-4e5a-be9f-9aae4c8d09b5",
   "metadata": {},
   "outputs": [
    {
     "data": {
      "image/png": "[encoded data removed]",
      "text/plain": [
       "<Figure size 1440x144 with 1 Axes>"
      ]
     },
     "metadata": {
      "needs_background": "light"
     },
     "output_type": "display_data"
    },
    {
     "data": {
      "image/png": "[encoded data removed]",
      "text/plain": [
       "<Figure size 1440x144 with 1 Axes>"
      ]
     },
     "metadata": {
      "needs_background": "light"
     },
     "output_type": "display_data"
    },
    {
     "data": {
      "image/png": "[encoded data removed]",
      "text/plain": [
       "<Figure size 1440x144 with 1 Axes>"
      ]
     },
     "metadata": {
      "needs_background": "light"
     },
     "output_type": "display_data"
    },
    {
     "data": {
      "image/png": "[encoded data removed]",
      "text/plain": [
       "<Figure size 1440x144 with 1 Axes>"
      ]
     },
     "metadata": {
      "needs_background": "light"
     },
     "output_type": "display_data"
    },
    {
     "data": {
      "image/png": "[encoded data removed]",
      "text/plain": [
       "<Figure size 1440x144 with 1 Axes>"
      ]
     },
     "metadata": {
      "needs_background": "light"
     },
     "output_type": "display_data"
    }
   ],
   "source": [
    "col_number = df.select_dtypes(exclude = 'object').columns.to_list()\n",
    "for col in col_number:\n",
    "    plt.figure(figsize=(20,2))\n",
    "    sns.boxplot(x = col, data =df) "
   ]
  },
  {
   "cell_type": "code",
   "execution_count": 17,
   "id": "f09135ca-5ac2-4d43-93d4-61b47383ecab",
   "metadata": {},
   "outputs": [
    {
     "data": {
      "text/plain": [
       "<AxesSubplot:>"
      ]
     },
     "execution_count": 17,
     "metadata": {},
     "output_type": "execute_result"
    },
    {
     "data": {
      "image/png": "[encoded data removed]",
      "text/plain": [
       "<Figure size 720x720 with 2 Axes>"
      ]
     },
     "metadata": {
      "needs_background": "light"
     },
     "output_type": "display_data"
    }
   ],
   "source": [
    "# Heat Map Coeff\n",
    "df_number = df.select_dtypes(exclude = 'object')\n",
    "plt.figure(figsize=(10,10))\n",
    "sns.heatmap(df_number.corr(), annot=True)"
   ]
  },
  {
   "cell_type": "markdown",
   "id": "cd82082f-4866-4060-a5d2-460485e01928",
   "metadata": {},
   "source": [
    "# Memvalidasi Data"
   ]
  },
  {
   "cell_type": "code",
   "execution_count": 18,
   "id": "b4e77274-a26c-4a14-a55b-c5a59435cc99",
   "metadata": {},
   "outputs": [
    {
     "data": {
      "text/plain": [
       "Flight         float64\n",
       "Time           float64\n",
       "Length         float64\n",
       "Airline         object\n",
       "AirportFrom     object\n",
       "AirportTo       object\n",
       "DayOfWeek        int64\n",
       "Class            int64\n",
       "dtype: object"
      ]
     },
     "execution_count": 18,
     "metadata": {},
     "output_type": "execute_result"
    }
   ],
   "source": [
    "# Menampilkan tipe data tiap kolom / atribut / features\n",
    "df.dtypes"
   ]
  },
  {
   "cell_type": "code",
   "execution_count": 19,
   "id": "7012ca66-de07-419c-8b9f-3e00ebf87ae7",
   "metadata": {},
   "outputs": [
    {
     "data": {
      "text/plain": [
       "Flight            0\n",
       "Time            873\n",
       "Length         1343\n",
       "Airline         582\n",
       "AirportFrom       0\n",
       "AirportTo         0\n",
       "DayOfWeek         0\n",
       "Class             0\n",
       "dtype: int64"
      ]
     },
     "execution_count": 19,
     "metadata": {},
     "output_type": "execute_result"
    }
   ],
   "source": [
    "# Melihat nilai NaN pada setiap kolom\n",
    "df.isnull().sum()"
   ]
  },
  {
   "cell_type": "code",
   "execution_count": 20,
   "id": "e91f5cda-e3cc-459e-9a46-d130ae27e702",
   "metadata": {},
   "outputs": [
    {
     "data": {
      "text/plain": [
       "71"
      ]
     },
     "execution_count": 20,
     "metadata": {},
     "output_type": "execute_result"
    }
   ],
   "source": [
    "# Melihat duplikasi pada DataFrame\n",
    "df.duplicated().sum()"
   ]
  },
  {
   "cell_type": "code",
   "execution_count": 21,
   "id": "7063031d-8937-45f3-a5f3-088f66fe71d4",
   "metadata": {},
   "outputs": [
    {
     "name": "stdout",
     "output_type": "stream",
     "text": [
      "=====Airline=====\n",
      "\n",
      "[nan 'OO' 'DL' 'WN' 'CO' 'MQ' 'AS' 'EV' 'US' 'XE' 'UA' 'AA' 'FL' '9E' 'HA'\n",
      " 'OH' 'YV' 'B6' 'F9']\n",
      "=====AirportFrom=====\n",
      "\n",
      "['IAH' 'DSM' 'SEA' 'SNA' 'MIA' 'BDL' 'PDX' 'AEX' 'DTW' 'CLT' 'FLL' 'DFW'\n",
      " 'ORD' 'ATL' 'LIT' 'TUL' 'BNA' 'MSP' 'PHX' 'ONT' 'HNL' 'MDW' 'RNO' 'DEN'\n",
      " 'MSY' 'CVG' 'SAN' 'LGA' 'LAX' 'SGF' 'ELP' 'SFO' 'OMA' 'MCO' 'HOU' 'RSW'\n",
      " 'ASE' 'OAK' 'LAS' 'BOS' 'MOB' 'DCA' 'MEM' 'BWI' 'XNA' 'PBI' 'ANC' 'SBA'\n",
      " 'TPA' 'AGS' 'PSP' 'CLE' 'TYS' 'OGG' 'SLC' 'DRO' 'SAV' 'STL' 'IAD' 'MLI'\n",
      " 'MRY' 'BRO' 'SRQ' 'FAY' 'HSV' 'PHL' 'BUF' 'GSO' 'BFL' 'DAL' 'RIC' 'CAE'\n",
      " 'SJC' 'RDU' 'EWR' 'LEX' 'BHM' 'ABQ' 'BTR' 'ATW' 'PVD' 'ROC' 'MAF' 'AUS'\n",
      " 'MKE' 'MBS' 'ECP' 'IND' 'OTZ' 'BUR' 'BZN' 'EVV' 'JFK' 'MCI' 'TUS' 'ICT'\n",
      " 'ORF' 'MOT' 'PSG' 'FLO' 'ABE' 'GJT' 'GRR' 'BOI' 'COS' 'GEG' 'GFK' 'VPS'\n",
      " 'MFR' 'PIT' 'GNV' 'OTH' 'CHS' 'JAX' 'OKC' 'AVL' 'CMH' 'SJU' 'DAY' 'PNS'\n",
      " 'FWA' 'KTN' 'ELM' 'LIH' 'LCH' 'SAT' 'HPN' 'GRB' 'LNK' 'ACV' 'BTV' 'FSD'\n",
      " 'MGM' 'JAN' 'SMF' 'FNT' 'JNU' 'CAK' 'MSN' 'KOA' 'GPT' 'HTS' 'CPR' 'VLD'\n",
      " 'SDF' 'SUN' 'BIL' 'AMA' 'BET' 'DBQ' 'HLN' 'BMI' 'FAR' 'SYR' 'ISP' 'SHV'\n",
      " 'BIS' 'FAT' 'MDT' 'MHT' 'HRL' 'GSP' 'ALB' 'ROA' 'COD' 'SMX' 'ITO' 'LAN'\n",
      " 'CHA' 'COU' 'ILM' 'HDN' 'LSE' 'LRD' 'SBN' 'PHF' 'CRP' 'GRK' 'AZO' 'CRW'\n",
      " 'CWA' 'LGB' 'DLH' 'CID' 'LWS' 'EGE' 'GTF' 'EKO' 'MOD' 'MYR' 'MFE' 'RDM'\n",
      " 'MLU' 'SPI' 'RAP' 'PWM' 'MSO' 'CDC' 'TLH' 'SBP' 'ABI' 'MTJ' 'CHO' 'OME'\n",
      " 'IDA' 'PSC' 'STT' 'BKG' 'SWF' 'EUG' 'CMX' 'CIC' 'BGM' 'SCC' 'SCE' 'GGG'\n",
      " 'GCC' 'BTM' 'LBB' 'ERI' 'FCA' 'PIH' 'TVC' 'RKS' 'PIA' 'MEI' 'MQT' 'RDD'\n",
      " 'FAI' 'LFT' 'GUC' 'TOL' 'GTR' 'EWN' 'AVP' 'JAC' 'CMI' 'YUM' 'BQN' 'TXK'\n",
      " 'TRI' 'IYK' 'ABY' 'CSG' 'DAB' 'SAF' 'SPS' 'CEC' 'CLD' 'FLG' 'MLB' 'LYH'\n",
      " 'CDV' 'LMT' 'IPL' 'SIT' 'BRW' 'BQK' 'FSM' 'LWB' 'RST' 'TWF' 'DHN' 'MHK'\n",
      " 'CLL' 'OAJ' 'STX' 'WRG' 'ROW' 'EYW']\n",
      "=====AirportTo=====\n",
      "\n",
      "['PHX' 'MKE' 'CVG' 'MDW' 'MCO' 'CMH' 'SNA' 'ATL' 'MCI' 'STL' 'EWR' 'GPT'\n",
      " 'LRD' 'DEN' 'LGA' 'ORF' 'ORD' 'MSP' 'DTW' 'SEA' 'LIH' 'GSO' 'MEM' 'PDX'\n",
      " 'BNA' 'HOU' 'JAX' 'BOI' 'SFO' 'MIA' 'LAS' 'DFW' 'BOS' 'OGG' 'CHA' 'SBA'\n",
      " 'SAN' 'OKC' 'DCA' 'IAH' 'XNA' 'LIT' 'FLL' 'BWI' 'MDT' 'CLE' 'BDL' 'IAD'\n",
      " 'HNL' 'LAX' 'RDU' 'CLT' 'PVD' 'ABQ' 'IDA' 'SLC' 'RNO' 'OAK' 'BGM' 'SMF'\n",
      " 'PIT' 'LFT' 'MSY' 'SJU' 'JAC' 'JFK' 'OMA' 'BUF' 'FAT' 'TPA' 'SYR' 'MAF'\n",
      " 'RSW' 'EGE' 'HSV' 'TUL' 'ECP' 'SJC' 'PNS' 'BET' 'GSP' 'EUG' 'ANC' 'TUS'\n",
      " 'LGB' 'TRI' 'PHL' 'BUR' 'DAL' 'HPN' 'AUS' 'JAN' 'FNT' 'LBB' 'TYS' 'BMI'\n",
      " 'JNU' 'CHS' 'ITO' 'PWM' 'SDF' 'ELP' 'ONT' 'SBN' 'BHM' 'CAE' 'SHV' 'IND'\n",
      " 'LEX' 'MHT' 'GRR' 'GNV' 'FAY' 'ICT' 'PBI' 'SAV' 'RIC' 'GEG' 'COS' 'ALB'\n",
      " 'PSC' 'VPS' 'WRG' 'ATW' 'GFK' 'RDM' 'LNK' 'SAT' 'ISP' 'DAY' 'PSP' 'MFE'\n",
      " 'AGS' 'ACV' 'CID' 'BQK' 'EKO' 'CRP' 'KOA' 'EVV' 'SBP' 'STT' 'MYR' 'CHO'\n",
      " 'DSM' 'AZO' 'BTR' 'DRO' 'MGM' 'FSD' 'FAR' 'FCA' 'MSN' 'FWA' 'MSO' 'ROC'\n",
      " 'SGF' 'DAB' 'BRO' 'CPR' 'ASE' 'MOD' 'OAJ' 'DHN' 'CAK' 'MTJ' 'MRY' 'RST'\n",
      " 'BFL' 'COD' 'MFR' 'HDN' 'BTV' 'ILM' 'PHF' 'LYH' 'TVC' 'MOB' 'ABE' 'LAN'\n",
      " 'GJT' 'RDD' 'PIA' 'ABI' 'CLD' 'FSM' 'HLN' 'MBS' 'GRK' 'SPI' 'MLU' 'IYK'\n",
      " 'FLG' 'ROA' 'PSE' 'HRL' 'AVL' 'MLI' 'CMX' 'BTM' 'FLO' 'TLH' 'PAH' 'SRQ'\n",
      " 'BRW' 'LWB' 'AMA' 'RKS' 'EWN' 'CIC' 'BIL' 'IPL' 'HTS' 'CSG' 'MLB' 'AEX'\n",
      " 'GCC' 'RAP' 'LWS' 'SGU' 'SCC' 'FAI' 'GTF' 'VLD' 'ACY' 'PIH' 'AVP' 'CEC'\n",
      " 'ACT' 'BZN' 'DLH' 'CMI' 'BIS' 'CRW' 'DBQ' 'KTN' 'LSE' 'GGG' 'YUM' 'SWF'\n",
      " 'SMX' 'SAF' 'ELM' 'ABY' 'GTR' 'YAK' 'MQT' 'GRB' 'SUN' 'EYW' 'MOT' 'BGR'\n",
      " 'EAU' 'BKG' 'TWF' 'CWA' 'ITH' 'BLI' 'SCE' 'BQN' 'MHK' 'SPS' 'SJT' 'SIT'\n",
      " 'OTZ']\n",
      "=====DayOfWeek=====\n",
      "\n",
      "[5 2 7 6 1 3 4]\n"
     ]
    }
   ],
   "source": [
    "# Melihat nilai Unique pada kolom Kategori\n",
    "df_cat = df.iloc[:, 3:7]\n",
    "for col_cat in df_cat.columns.to_list():\n",
    "    print(f'====={col_cat}=====\\n')\n",
    "    print(df[col_cat].unique())"
   ]
  },
  {
   "cell_type": "markdown",
   "id": "cc242227-22f7-4a8c-b04d-a5d12f1859d9",
   "metadata": {
    "tags": []
   },
   "source": [
    "# Menentukan Objek Data"
   ]
  },
  {
   "cell_type": "markdown",
   "id": "d3b9841f-b741-4e94-9871-7660110ac6c7",
   "metadata": {},
   "source": [
    "# Membersihkan Data"
   ]
  },
  {
   "cell_type": "code",
   "execution_count": 22,
   "id": "41b23401-d7cf-40fc-bf20-4ef91331863e",
   "metadata": {},
   "outputs": [
    {
     "name": "stdout",
     "output_type": "stream",
     "text": [
      "Jumlah Duplikasi : 71\n"
     ]
    }
   ],
   "source": [
    "# Melihat duplikasi pada DataFrame\n",
    "print(f'Jumlah Duplikasi : {df.duplicated().sum()}')\n",
    "# Drop duplikasi data\n",
    "df = df.drop_duplicates().reset_index()"
   ]
  },
  {
   "cell_type": "code",
   "execution_count": 23,
   "id": "239613b5-1381-4ca5-973b-c17a717c2ac5",
   "metadata": {
    "tags": []
   },
   "outputs": [
    {
     "name": "stdout",
     "output_type": "stream",
     "text": [
      "Jumlah Duplikasi : 0\n"
     ]
    }
   ],
   "source": [
    "df.drop(columns='index', axis = 1, inplace=True)\n",
    "print(f'Jumlah Duplikasi : {df.duplicated().sum()}')"
   ]
  },
  {
   "cell_type": "code",
   "execution_count": 24,
   "id": "77764e96-18c5-4b69-94af-21b87b0985ec",
   "metadata": {},
   "outputs": [
    {
     "data": {
      "text/plain": [
       "Flight            0\n",
       "Time            873\n",
       "Length         1342\n",
       "Airline         582\n",
       "AirportFrom       0\n",
       "AirportTo         0\n",
       "DayOfWeek         0\n",
       "Class             0\n",
       "dtype: int64"
      ]
     },
     "execution_count": 24,
     "metadata": {},
     "output_type": "execute_result"
    }
   ],
   "source": [
    "# Menilhat missing value\n",
    "df.isnull().sum()"
   ]
  },
  {
   "cell_type": "code",
   "execution_count": 25,
   "id": "bdfb5c01-49a3-47c5-bfdd-e64d6f61754b",
   "metadata": {},
   "outputs": [
    {
     "name": "stdout",
     "output_type": "stream",
     "text": [
      "Nilai Mean Time : 803.299908564462 \n",
      "Nilai Mean Length : 133.3044591423085\n"
     ]
    }
   ],
   "source": [
    "# Fill NaN pada kolom bernilai continues dengan Mean\n",
    "\n",
    "mean_time = df['Time'].mean()\n",
    "mean_length = df['Length'].mean()\n",
    "print(f'Nilai Mean Time : {mean_time} \\nNilai Mean Length : {mean_length}')\n",
    "df['Time'].fillna(mean_time, inplace = True)\n",
    "df['Length'].fillna(mean_length, inplace = True)\n"
   ]
  },
  {
   "cell_type": "code",
   "execution_count": 26,
   "id": "e9642496-ece1-4f81-bd88-ade05056260f",
   "metadata": {},
   "outputs": [
    {
     "name": "stdout",
     "output_type": "stream",
     "text": [
      "Modus pada kolom Airline : WN\n"
     ]
    }
   ],
   "source": [
    "# Fill NaN pada kolom bernilai categories dengan Modus\n",
    "mode_airline = df['Airline'].mode()\n",
    "print(f'Modus pada kolom Airline : {mode_airline.values[0]}')\n",
    "df['Airline'].fillna(mode_airline.values[0], inplace = True)"
   ]
  },
  {
   "cell_type": "code",
   "execution_count": 27,
   "id": "9c2c4fc1-f3c1-4e6a-a8a3-76057bd4bd53",
   "metadata": {},
   "outputs": [
    {
     "data": {
      "text/plain": [
       "Flight         0\n",
       "Time           0\n",
       "Length         0\n",
       "Airline        0\n",
       "AirportFrom    0\n",
       "AirportTo      0\n",
       "DayOfWeek      0\n",
       "Class          0\n",
       "dtype: int64"
      ]
     },
     "execution_count": 27,
     "metadata": {},
     "output_type": "execute_result"
    }
   ],
   "source": [
    "# Menilhat missing value\n",
    "df.isnull().sum()"
   ]
  },
  {
   "cell_type": "code",
   "execution_count": 28,
   "id": "df08f4e9-704b-4a4d-a5c6-a8a6f99eda3f",
   "metadata": {},
   "outputs": [
    {
     "data": {
      "image/png": "[encoded data removed]",
      "text/plain": [
       "<Figure size 1440x144 with 1 Axes>"
      ]
     },
     "metadata": {
      "needs_background": "light"
     },
     "output_type": "display_data"
    },
    {
     "data": {
      "image/png": "[encoded data removed]",
      "text/plain": [
       "<Figure size 1440x144 with 1 Axes>"
      ]
     },
     "metadata": {
      "needs_background": "light"
     },
     "output_type": "display_data"
    },
    {
     "data": {
      "image/png": "[encoded data removed]",
      "text/plain": [
       "<Figure size 1440x144 with 1 Axes>"
      ]
     },
     "metadata": {
      "needs_background": "light"
     },
     "output_type": "display_data"
    },
    {
     "data": {
      "image/png": "[encoded data removed]",
      "text/plain": [
       "<Figure size 1440x144 with 1 Axes>"
      ]
     },
     "metadata": {
      "needs_background": "light"
     },
     "output_type": "display_data"
    },
    {
     "data": {
      "image/png": "[encoded data removed]",
      "text/plain": [
       "<Figure size 1440x144 with 1 Axes>"
      ]
     },
     "metadata": {
      "needs_background": "light"
     },
     "output_type": "display_data"
    }
   ],
   "source": [
    "# Melihat Outlier\n",
    "col_number = df.select_dtypes(exclude = 'object').columns.to_list()\n",
    "for col in col_number:\n",
    "    plt.figure(figsize=(20,2))\n",
    "    sns.boxplot(x = col, data =df) "
   ]
  },
  {
   "cell_type": "code",
   "execution_count": 29,
   "id": "456fd507-f9a7-4174-adf0-cb3d075c3e82",
   "metadata": {},
   "outputs": [],
   "source": [
    "# Handling Outlier Dengan Teknik Winsorize \n",
    "from scipy.stats.mstats import winsorize\n",
    "df['Length'] = winsorize(df['Length'], limits=[0, 0.05])"
   ]
  },
  {
   "cell_type": "code",
   "execution_count": 30,
   "id": "69f078f8-102f-4907-a878-d0d7ed58ac2a",
   "metadata": {},
   "outputs": [
    {
     "data": {
      "text/plain": [
       "<AxesSubplot:xlabel='Length'>"
      ]
     },
     "execution_count": 30,
     "metadata": {},
     "output_type": "execute_result"
    },
    {
     "data": {
      "image/png": "[encoded data removed]",
      "text/plain": [
       "<Figure size 1440x144 with 1 Axes>"
      ]
     },
     "metadata": {
      "needs_background": "light"
     },
     "output_type": "display_data"
    }
   ],
   "source": [
    "# Mencari Outliers - Boxplot\n",
    "plt.figure(figsize=(20,2))\n",
    "sns.boxplot(data=df, x=df['Length'])"
   ]
  },
  {
   "cell_type": "code",
   "execution_count": 31,
   "id": "2b9107ac-5f27-42e6-a4e6-eb41b4a3990d",
   "metadata": {},
   "outputs": [
    {
     "data": {
      "text/plain": [
       "'DayOfWeek'"
      ]
     },
     "execution_count": 31,
     "metadata": {},
     "output_type": "execute_result"
    }
   ],
   "source": [
    "col_cat"
   ]
  },
  {
   "cell_type": "code",
   "execution_count": 32,
   "id": "4d7851a6-9a7f-4ea3-bce8-581f1d74ba63",
   "metadata": {},
   "outputs": [],
   "source": [
    "# Encoding Kolom Kategori\n",
    "col_cat = df.iloc[:, 3:7].columns.to_list()\n",
    "le = preprocessing.LabelEncoder()\n",
    "df[col_cat] = df[col_cat].apply(le.fit_transform)"
   ]
  },
  {
   "cell_type": "code",
   "execution_count": 33,
   "id": "c3ff1bce-82a5-4f61-ad1d-b90bfa1c6526",
   "metadata": {},
   "outputs": [
    {
     "data": {
      "text/html": [
       "<div>\n",
       "<style scoped>\n",
       "    .dataframe tbody tr th:only-of-type {\n",
       "        vertical-align: middle;\n",
       "    }\n",
       "\n",
       "    .dataframe tbody tr th {\n",
       "        vertical-align: top;\n",
       "    }\n",
       "\n",
       "    .dataframe thead th {\n",
       "        text-align: right;\n",
       "    }\n",
       "</style>\n",
       "<table border=\"1\" class=\"dataframe\">\n",
       "  <thead>\n",
       "    <tr style=\"text-align: right;\">\n",
       "      <th></th>\n",
       "      <th>Flight</th>\n",
       "      <th>Time</th>\n",
       "      <th>Length</th>\n",
       "      <th>Airline</th>\n",
       "      <th>AirportFrom</th>\n",
       "      <th>AirportTo</th>\n",
       "      <th>DayOfWeek</th>\n",
       "      <th>Class</th>\n",
       "    </tr>\n",
       "  </thead>\n",
       "  <tbody>\n",
       "    <tr>\n",
       "      <th>0</th>\n",
       "      <td>320.0</td>\n",
       "      <td>870.0</td>\n",
       "      <td>180.0</td>\n",
       "      <td>15</td>\n",
       "      <td>125</td>\n",
       "      <td>199</td>\n",
       "      <td>4</td>\n",
       "      <td>0</td>\n",
       "    </tr>\n",
       "    <tr>\n",
       "      <th>1</th>\n",
       "      <td>3045.0</td>\n",
       "      <td>365.0</td>\n",
       "      <td>66.0</td>\n",
       "      <td>12</td>\n",
       "      <td>76</td>\n",
       "      <td>170</td>\n",
       "      <td>1</td>\n",
       "      <td>0</td>\n",
       "    </tr>\n",
       "    <tr>\n",
       "      <th>2</th>\n",
       "      <td>1560.0</td>\n",
       "      <td>740.0</td>\n",
       "      <td>257.0</td>\n",
       "      <td>5</td>\n",
       "      <td>235</td>\n",
       "      <td>64</td>\n",
       "      <td>6</td>\n",
       "      <td>0</td>\n",
       "    </tr>\n",
       "    <tr>\n",
       "      <th>3</th>\n",
       "      <td>1156.0</td>\n",
       "      <td>595.0</td>\n",
       "      <td>235.0</td>\n",
       "      <td>15</td>\n",
       "      <td>245</td>\n",
       "      <td>162</td>\n",
       "      <td>6</td>\n",
       "      <td>1</td>\n",
       "    </tr>\n",
       "    <tr>\n",
       "      <th>4</th>\n",
       "      <td>1873.0</td>\n",
       "      <td>530.0</td>\n",
       "      <td>133.0</td>\n",
       "      <td>4</td>\n",
       "      <td>125</td>\n",
       "      <td>160</td>\n",
       "      <td>5</td>\n",
       "      <td>1</td>\n",
       "    </tr>\n",
       "  </tbody>\n",
       "</table>\n",
       "</div>"
      ],
      "text/plain": [
       "   Flight   Time  Length  Airline  AirportFrom  AirportTo  DayOfWeek  Class\n",
       "0   320.0  870.0   180.0       15          125        199          4      0\n",
       "1  3045.0  365.0    66.0       12           76        170          1      0\n",
       "2  1560.0  740.0   257.0        5          235         64          6      0\n",
       "3  1156.0  595.0   235.0       15          245        162          6      1\n",
       "4  1873.0  530.0   133.0        4          125        160          5      1"
      ]
     },
     "execution_count": 33,
     "metadata": {},
     "output_type": "execute_result"
    }
   ],
   "source": [
    "df.head()"
   ]
  },
  {
   "cell_type": "markdown",
   "id": "c46f6063-2718-4de1-a93b-dea10f246de8",
   "metadata": {},
   "source": [
    "# Mengkonstruksi Data"
   ]
  },
  {
   "cell_type": "code",
   "execution_count": 34,
   "id": "6f6cfced-7be9-4482-afb5-c3b51a5748ee",
   "metadata": {},
   "outputs": [
    {
     "data": {
      "text/html": [
       "<div>\n",
       "<style scoped>\n",
       "    .dataframe tbody tr th:only-of-type {\n",
       "        vertical-align: middle;\n",
       "    }\n",
       "\n",
       "    .dataframe tbody tr th {\n",
       "        vertical-align: top;\n",
       "    }\n",
       "\n",
       "    .dataframe thead th {\n",
       "        text-align: right;\n",
       "    }\n",
       "</style>\n",
       "<table border=\"1\" class=\"dataframe\">\n",
       "  <thead>\n",
       "    <tr style=\"text-align: right;\">\n",
       "      <th></th>\n",
       "      <th>Flight</th>\n",
       "      <th>Time</th>\n",
       "      <th>Length</th>\n",
       "    </tr>\n",
       "  </thead>\n",
       "  <tbody>\n",
       "    <tr>\n",
       "      <th>0</th>\n",
       "      <td>-0.481280</td>\n",
       "      <td>0.158057</td>\n",
       "      <td>0.785714</td>\n",
       "    </tr>\n",
       "    <tr>\n",
       "      <th>1</th>\n",
       "      <td>0.403963</td>\n",
       "      <td>-1.038625</td>\n",
       "      <td>-0.842857</td>\n",
       "    </tr>\n",
       "    <tr>\n",
       "      <th>2</th>\n",
       "      <td>-0.078454</td>\n",
       "      <td>-0.150000</td>\n",
       "      <td>1.885714</td>\n",
       "    </tr>\n",
       "    <tr>\n",
       "      <th>3</th>\n",
       "      <td>-0.209697</td>\n",
       "      <td>-0.493602</td>\n",
       "      <td>1.571429</td>\n",
       "    </tr>\n",
       "    <tr>\n",
       "      <th>4</th>\n",
       "      <td>0.023227</td>\n",
       "      <td>-0.647630</td>\n",
       "      <td>0.114286</td>\n",
       "    </tr>\n",
       "  </tbody>\n",
       "</table>\n",
       "</div>"
      ],
      "text/plain": [
       "     Flight      Time    Length\n",
       "0 -0.481280  0.158057  0.785714\n",
       "1  0.403963 -1.038625 -0.842857\n",
       "2 -0.078454 -0.150000  1.885714\n",
       "3 -0.209697 -0.493602  1.571429\n",
       "4  0.023227 -0.647630  0.114286"
      ]
     },
     "execution_count": 34,
     "metadata": {},
     "output_type": "execute_result"
    }
   ],
   "source": [
    "# Scaling menggunakan Robust Scaling\n",
    "scaler = preprocessing.RobustScaler()\n",
    "robust_df = scaler.fit_transform(df.iloc[:, 0:3])\n",
    "robust_df = pd.DataFrame(robust_df, columns = df.iloc[:, 0:3].columns)\n",
    "robust_df.head()"
   ]
  },
  {
   "cell_type": "code",
   "execution_count": 35,
   "id": "a18e1e61-4adb-4fb6-ab22-c6a7ce2deb77",
   "metadata": {},
   "outputs": [
    {
     "data": {
      "text/plain": [
       "<matplotlib.legend.Legend at 0x7f041414fcd0>"
      ]
     },
     "execution_count": 35,
     "metadata": {},
     "output_type": "execute_result"
    },
    {
     "data": {
      "image/png": "[encoded data removed]",
      "text/plain": [
       "<Figure size 720x720 with 1 Axes>"
      ]
     },
     "metadata": {
      "needs_background": "light"
     },
     "output_type": "display_data"
    }
   ],
   "source": [
    "plt.figure(figsize=(10,10))\n",
    "plt.title('After Robust Scaling')\n",
    "sns.kdeplot(robust_df['Flight'], color='blue', label='Flight')\n",
    "sns.kdeplot(robust_df['Time'], color='green', label='Time')\n",
    "sns.kdeplot(robust_df['Length'], color='red', label='Length')\n",
    "plt.legend()"
   ]
  },
  {
   "cell_type": "code",
   "execution_count": 36,
   "id": "2f0a2e36-47ff-4856-9854-8356e13fd392",
   "metadata": {},
   "outputs": [
    {
     "data": {
      "text/html": [
       "<div>\n",
       "<style scoped>\n",
       "    .dataframe tbody tr th:only-of-type {\n",
       "        vertical-align: middle;\n",
       "    }\n",
       "\n",
       "    .dataframe tbody tr th {\n",
       "        vertical-align: top;\n",
       "    }\n",
       "\n",
       "    .dataframe thead th {\n",
       "        text-align: right;\n",
       "    }\n",
       "</style>\n",
       "<table border=\"1\" class=\"dataframe\">\n",
       "  <thead>\n",
       "    <tr style=\"text-align: right;\">\n",
       "      <th></th>\n",
       "      <th>Flight</th>\n",
       "      <th>Time</th>\n",
       "      <th>Length</th>\n",
       "      <th>Airline</th>\n",
       "      <th>AirportFrom</th>\n",
       "      <th>AirportTo</th>\n",
       "      <th>DayOfWeek</th>\n",
       "      <th>Class</th>\n",
       "    </tr>\n",
       "  </thead>\n",
       "  <tbody>\n",
       "    <tr>\n",
       "      <th>0</th>\n",
       "      <td>-0.481280</td>\n",
       "      <td>0.158057</td>\n",
       "      <td>0.785714</td>\n",
       "      <td>15</td>\n",
       "      <td>125</td>\n",
       "      <td>199</td>\n",
       "      <td>4</td>\n",
       "      <td>0</td>\n",
       "    </tr>\n",
       "    <tr>\n",
       "      <th>1</th>\n",
       "      <td>0.403963</td>\n",
       "      <td>-1.038625</td>\n",
       "      <td>-0.842857</td>\n",
       "      <td>12</td>\n",
       "      <td>76</td>\n",
       "      <td>170</td>\n",
       "      <td>1</td>\n",
       "      <td>0</td>\n",
       "    </tr>\n",
       "    <tr>\n",
       "      <th>2</th>\n",
       "      <td>-0.078454</td>\n",
       "      <td>-0.150000</td>\n",
       "      <td>1.885714</td>\n",
       "      <td>5</td>\n",
       "      <td>235</td>\n",
       "      <td>64</td>\n",
       "      <td>6</td>\n",
       "      <td>0</td>\n",
       "    </tr>\n",
       "    <tr>\n",
       "      <th>3</th>\n",
       "      <td>-0.209697</td>\n",
       "      <td>-0.493602</td>\n",
       "      <td>1.571429</td>\n",
       "      <td>15</td>\n",
       "      <td>245</td>\n",
       "      <td>162</td>\n",
       "      <td>6</td>\n",
       "      <td>1</td>\n",
       "    </tr>\n",
       "    <tr>\n",
       "      <th>4</th>\n",
       "      <td>0.023227</td>\n",
       "      <td>-0.647630</td>\n",
       "      <td>0.114286</td>\n",
       "      <td>4</td>\n",
       "      <td>125</td>\n",
       "      <td>160</td>\n",
       "      <td>5</td>\n",
       "      <td>1</td>\n",
       "    </tr>\n",
       "    <tr>\n",
       "      <th>...</th>\n",
       "      <td>...</td>\n",
       "      <td>...</td>\n",
       "      <td>...</td>\n",
       "      <td>...</td>\n",
       "      <td>...</td>\n",
       "      <td>...</td>\n",
       "      <td>...</td>\n",
       "      <td>...</td>\n",
       "    </tr>\n",
       "    <tr>\n",
       "      <th>10711</th>\n",
       "      <td>0.331195</td>\n",
       "      <td>-0.458057</td>\n",
       "      <td>-1.071429</td>\n",
       "      <td>10</td>\n",
       "      <td>72</td>\n",
       "      <td>244</td>\n",
       "      <td>1</td>\n",
       "      <td>0</td>\n",
       "    </tr>\n",
       "    <tr>\n",
       "      <th>10712</th>\n",
       "      <td>0.265248</td>\n",
       "      <td>0.084597</td>\n",
       "      <td>-0.100000</td>\n",
       "      <td>16</td>\n",
       "      <td>234</td>\n",
       "      <td>87</td>\n",
       "      <td>1</td>\n",
       "      <td>0</td>\n",
       "    </tr>\n",
       "    <tr>\n",
       "      <th>10713</th>\n",
       "      <td>0.055713</td>\n",
       "      <td>0.845261</td>\n",
       "      <td>-0.014286</td>\n",
       "      <td>5</td>\n",
       "      <td>11</td>\n",
       "      <td>169</td>\n",
       "      <td>1</td>\n",
       "      <td>0</td>\n",
       "    </tr>\n",
       "    <tr>\n",
       "      <th>10714</th>\n",
       "      <td>-0.413709</td>\n",
       "      <td>1.117773</td>\n",
       "      <td>-0.185714</td>\n",
       "      <td>14</td>\n",
       "      <td>203</td>\n",
       "      <td>215</td>\n",
       "      <td>3</td>\n",
       "      <td>0</td>\n",
       "    </tr>\n",
       "    <tr>\n",
       "      <th>10715</th>\n",
       "      <td>0.146999</td>\n",
       "      <td>0.395024</td>\n",
       "      <td>0.118635</td>\n",
       "      <td>5</td>\n",
       "      <td>11</td>\n",
       "      <td>55</td>\n",
       "      <td>3</td>\n",
       "      <td>1</td>\n",
       "    </tr>\n",
       "  </tbody>\n",
       "</table>\n",
       "<p>10716 rows × 8 columns</p>\n",
       "</div>"
      ],
      "text/plain": [
       "         Flight      Time    Length  Airline  AirportFrom  AirportTo  \\\n",
       "0     -0.481280  0.158057  0.785714       15          125        199   \n",
       "1      0.403963 -1.038625 -0.842857       12           76        170   \n",
       "2     -0.078454 -0.150000  1.885714        5          235         64   \n",
       "3     -0.209697 -0.493602  1.571429       15          245        162   \n",
       "4      0.023227 -0.647630  0.114286        4          125        160   \n",
       "...         ...       ...       ...      ...          ...        ...   \n",
       "10711  0.331195 -0.458057 -1.071429       10           72        244   \n",
       "10712  0.265248  0.084597 -0.100000       16          234         87   \n",
       "10713  0.055713  0.845261 -0.014286        5           11        169   \n",
       "10714 -0.413709  1.117773 -0.185714       14          203        215   \n",
       "10715  0.146999  0.395024  0.118635        5           11         55   \n",
       "\n",
       "       DayOfWeek  Class  \n",
       "0              4      0  \n",
       "1              1      0  \n",
       "2              6      0  \n",
       "3              6      1  \n",
       "4              5      1  \n",
       "...          ...    ...  \n",
       "10711          1      0  \n",
       "10712          1      0  \n",
       "10713          1      0  \n",
       "10714          3      0  \n",
       "10715          3      1  \n",
       "\n",
       "[10716 rows x 8 columns]"
      ]
     },
     "execution_count": 36,
     "metadata": {},
     "output_type": "execute_result"
    }
   ],
   "source": [
    "df.iloc[:, 0:3] = robust_df\n",
    "df"
   ]
  },
  {
   "cell_type": "markdown",
   "id": "819b4e54-2329-4da2-9662-3cb6b501330f",
   "metadata": {},
   "source": [
    "# Menentukan Label"
   ]
  },
  {
   "cell_type": "code",
   "execution_count": 37,
   "id": "4105581d-f9fc-421a-b69e-a936d9b78cbc",
   "metadata": {},
   "outputs": [
    {
     "data": {
      "text/plain": [
       "array([0, 1])"
      ]
     },
     "execution_count": 37,
     "metadata": {},
     "output_type": "execute_result"
    }
   ],
   "source": [
    "df['Class'].unique()"
   ]
  },
  {
   "cell_type": "code",
   "execution_count": 38,
   "id": "cdefe0bf-85c7-4738-bc0a-ddfa6ec947e1",
   "metadata": {},
   "outputs": [],
   "source": [
    "X = df.drop(columns = ['Class','Flight'])\n",
    "y = df['Class']"
   ]
  },
  {
   "cell_type": "markdown",
   "id": "fd917098-387c-4b69-92ea-8e9976b37951",
   "metadata": {},
   "source": [
    "# Membangun Model"
   ]
  },
  {
   "cell_type": "code",
   "execution_count": 39,
   "id": "8b861f1f-ae1a-44fe-a4c1-f0e930bd690d",
   "metadata": {},
   "outputs": [],
   "source": [
    "X_train_linreg, X_test_linreg, y_train_linreg, y_test_linreg = train_test_split(X, y, test_size=0.2)\n",
    "X_train_logreg, X_test_logreg, y_train_logreg, y_test_logreg = train_test_split(X, y, test_size=0.2)\n",
    "X_train_knn, X_test_knn, y_train_knn, y_test_knn = train_test_split(X, y, test_size=0.2)"
   ]
  },
  {
   "cell_type": "code",
   "execution_count": 40,
   "id": "d4ecd7a2-90c1-422a-96eb-6226401e132c",
   "metadata": {},
   "outputs": [],
   "source": [
    "lin_reg = LinearRegression()\n",
    "log_reg = LogisticRegression(solver='lbfgs', max_iter=1000)\n",
    "knn = KNeighborsClassifier(n_neighbors= 3)"
   ]
  },
  {
   "cell_type": "code",
   "execution_count": 41,
   "id": "8bae6039-f6eb-46bc-b519-e1b23c699ba8",
   "metadata": {},
   "outputs": [
    {
     "data": {
      "text/html": [
       "<style>#sk-container-id-1 {color: black;background-color: white;}#sk-container-id-1 pre{padding: 0;}#sk-container-id-1 div.sk-toggleable {background-color: white;}#sk-container-id-1 label.sk-toggleable__label {cursor: pointer;display: block;width: 100%;margin-bottom: 0;padding: 0.3em;box-sizing: border-box;text-align: center;}#sk-container-id-1 label.sk-toggleable__label-arrow:before {content: \"▸\";float: left;margin-right: 0.25em;color: #696969;}#sk-container-id-1 label.sk-toggleable__label-arrow:hover:before {color: black;}#sk-container-id-1 div.sk-estimator:hover label.sk-toggleable__label-arrow:before {color: black;}#sk-container-id-1 div.sk-toggleable__content {max-height: 0;max-width: 0;overflow: hidden;text-align: left;background-color: #f0f8ff;}#sk-container-id-1 div.sk-toggleable__content pre {margin: 0.2em;color: black;border-radius: 0.25em;background-color: #f0f8ff;}#sk-container-id-1 input.sk-toggleable__control:checked~div.sk-toggleable__content {max-height: 200px;max-width: 100%;overflow: auto;}#sk-container-id-1 input.sk-toggleable__control:checked~label.sk-toggleable__label-arrow:before {content: \"▾\";}#sk-container-id-1 div.sk-estimator input.sk-toggleable__control:checked~label.sk-toggleable__label {background-color: #d4ebff;}#sk-container-id-1 div.sk-label input.sk-toggleable__control:checked~label.sk-toggleable__label {background-color: #d4ebff;}#sk-container-id-1 input.sk-hidden--visually {border: 0;clip: rect(1px 1px 1px 1px);clip: rect(1px, 1px, 1px, 1px);height: 1px;margin: -1px;overflow: hidden;padding: 0;position: absolute;width: 1px;}#sk-container-id-1 div.sk-estimator {font-family: monospace;background-color: #f0f8ff;border: 1px dotted black;border-radius: 0.25em;box-sizing: border-box;margin-bottom: 0.5em;}#sk-container-id-1 div.sk-estimator:hover {background-color: #d4ebff;}#sk-container-id-1 div.sk-parallel-item::after {content: \"\";width: 100%;border-bottom: 1px solid gray;flex-grow: 1;}#sk-container-id-1 div.sk-label:hover label.sk-toggleable__label {background-color: #d4ebff;}#sk-container-id-1 div.sk-serial::before {content: \"\";position: absolute;border-left: 1px solid gray;box-sizing: border-box;top: 0;bottom: 0;left: 50%;z-index: 0;}#sk-container-id-1 div.sk-serial {display: flex;flex-direction: column;align-items: center;background-color: white;padding-right: 0.2em;padding-left: 0.2em;position: relative;}#sk-container-id-1 div.sk-item {position: relative;z-index: 1;}#sk-container-id-1 div.sk-parallel {display: flex;align-items: stretch;justify-content: center;background-color: white;position: relative;}#sk-container-id-1 div.sk-item::before, #sk-container-id-1 div.sk-parallel-item::before {content: \"\";position: absolute;border-left: 1px solid gray;box-sizing: border-box;top: 0;bottom: 0;left: 50%;z-index: -1;}#sk-container-id-1 div.sk-parallel-item {display: flex;flex-direction: column;z-index: 1;position: relative;background-color: white;}#sk-container-id-1 div.sk-parallel-item:first-child::after {align-self: flex-end;width: 50%;}#sk-container-id-1 div.sk-parallel-item:last-child::after {align-self: flex-start;width: 50%;}#sk-container-id-1 div.sk-parallel-item:only-child::after {width: 0;}#sk-container-id-1 div.sk-dashed-wrapped {border: 1px dashed gray;margin: 0 0.4em 0.5em 0.4em;box-sizing: border-box;padding-bottom: 0.4em;background-color: white;}#sk-container-id-1 div.sk-label label {font-family: monospace;font-weight: bold;display: inline-block;line-height: 1.2em;}#sk-container-id-1 div.sk-label-container {text-align: center;}#sk-container-id-1 div.sk-container {/* jupyter's `normalize.less` sets `[hidden] { display: none; }` but bootstrap.min.css set `[hidden] { display: none !important; }` so we also need the `!important` here to be able to override the default hidden behavior on the sphinx rendered scikit-learn.org. See: https://github.com/scikit-learn/scikit-learn/issues/21755 */display: inline-block !important;position: relative;}#sk-container-id-1 div.sk-text-repr-fallback {display: none;}</style><div id=\"sk-container-id-1\" class=\"sk-top-container\"><div class=\"sk-text-repr-fallback\"><pre>KNeighborsClassifier(n_neighbors=3)</pre><b>In a Jupyter environment, please rerun this cell to show the HTML representation or trust the notebook. <br />On GitHub, the HTML representation is unable to render, please try loading this page with nbviewer.org.</b></div><div class=\"sk-container\" hidden><div class=\"sk-item\"><div class=\"sk-estimator sk-toggleable\"><input class=\"sk-toggleable__control sk-hidden--visually\" id=\"sk-estimator-id-1\" type=\"checkbox\" checked><label for=\"sk-estimator-id-1\" class=\"sk-toggleable__label sk-toggleable__label-arrow\">KNeighborsClassifier</label><div class=\"sk-toggleable__content\"><pre>KNeighborsClassifier(n_neighbors=3)</pre></div></div></div></div></div>"
      ],
      "text/plain": [
       "KNeighborsClassifier(n_neighbors=3)"
      ]
     },
     "execution_count": 41,
     "metadata": {},
     "output_type": "execute_result"
    }
   ],
   "source": [
    "lin_reg.fit(X_train_linreg,y_train_linreg)\n",
    "log_reg.fit(X_train_logreg,y_train_logreg)\n",
    "knn.fit(X_train_knn,y_train_knn)"
   ]
  },
  {
   "cell_type": "code",
   "execution_count": 42,
   "id": "29752a0e-dbd2-4ae5-af07-68aea4e4687d",
   "metadata": {},
   "outputs": [],
   "source": [
    "y_pred_lin_reg = lin_reg.predict(X_test_linreg)\n",
    "y_pred_log_reg = log_reg.predict(X_test_logreg)\n",
    "y_pred_knn = knn.predict(X_test_knn)"
   ]
  },
  {
   "cell_type": "markdown",
   "id": "e17e9165-7403-4e59-bf23-103a6c25ded3",
   "metadata": {},
   "source": [
    "# Evaluasi Hasil Model"
   ]
  },
  {
   "cell_type": "code",
   "execution_count": 74,
   "id": "e4e30c7e-23cf-4270-8fe7-53aa49dffed1",
   "metadata": {},
   "outputs": [],
   "source": [
    "y_pred_lin_reg = [1 if prob > 0.5 else 0 for prob in y_pred_lin_reg]\n",
    "y_pred_log_reg = [1 if prob > 0.5 else 0 for prob in y_pred_log_reg]"
   ]
  },
  {
   "cell_type": "code",
   "execution_count": 81,
   "id": "b2fa70fe-42a1-48fd-ae27-dc33e5204076",
   "metadata": {},
   "outputs": [],
   "source": [
    "akurasi_train_lin_reg = lin_reg.score(X_train_linreg, y_train_linreg)\n",
    "akurasi_train_log_reg = log_reg.score(X_train_logreg, y_train_logreg)\n",
    "akurasi_train_knn = knn.score(X_train_knn, y_train_knn)\n",
    "\n",
    "akurasi_test_lin_reg = accuracy_score(y_test_linreg, y_pred_lin_reg)\n",
    "akurasi_test_log_reg = accuracy_score(y_test_logreg, y_pred_log_reg)\n",
    "akurasi_test_knn = accuracy_score(y_test_knn, y_pred_knn)"
   ]
  },
  {
   "cell_type": "code",
   "execution_count": 82,
   "id": "8c15c2de-463c-464f-a45d-6e2c02c44a6d",
   "metadata": {},
   "outputs": [],
   "source": [
    "akurasi = pd.DataFrame({'Algoritma' : ['Linear Regression', 'Logistic Regression', 'KNN'],\n",
    "                        'Akurasi Training' :[akurasi_train_lin_reg, akurasi_train_log_reg, akurasi_train_knn],\n",
    "                        'Akurasi Testing' :[akurasi_test_lin_reg, akurasi_test_log_reg, akurasi_test_knn]})"
   ]
  },
  {
   "cell_type": "code",
   "execution_count": 83,
   "id": "649b048c-aadf-42bb-904b-7f5cf8947c88",
   "metadata": {},
   "outputs": [
    {
     "data": {
      "text/html": [
       "<div>\n",
       "<style scoped>\n",
       "    .dataframe tbody tr th:only-of-type {\n",
       "        vertical-align: middle;\n",
       "    }\n",
       "\n",
       "    .dataframe tbody tr th {\n",
       "        vertical-align: top;\n",
       "    }\n",
       "\n",
       "    .dataframe thead th {\n",
       "        text-align: right;\n",
       "    }\n",
       "</style>\n",
       "<table border=\"1\" class=\"dataframe\">\n",
       "  <thead>\n",
       "    <tr style=\"text-align: right;\">\n",
       "      <th></th>\n",
       "      <th>Algoritma</th>\n",
       "      <th>Akurasi Training</th>\n",
       "      <th>Akurasi Testing</th>\n",
       "    </tr>\n",
       "  </thead>\n",
       "  <tbody>\n",
       "    <tr>\n",
       "      <th>0</th>\n",
       "      <td>Linear Regression</td>\n",
       "      <td>0.027398</td>\n",
       "      <td>0.567164</td>\n",
       "    </tr>\n",
       "    <tr>\n",
       "      <th>1</th>\n",
       "      <td>Logistic Regression</td>\n",
       "      <td>0.570345</td>\n",
       "      <td>0.581157</td>\n",
       "    </tr>\n",
       "    <tr>\n",
       "      <th>2</th>\n",
       "      <td>KNN</td>\n",
       "      <td>0.770065</td>\n",
       "      <td>0.568563</td>\n",
       "    </tr>\n",
       "  </tbody>\n",
       "</table>\n",
       "</div>"
      ],
      "text/plain": [
       "             Algoritma  Akurasi Training  Akurasi Testing\n",
       "0    Linear Regression          0.027398         0.567164\n",
       "1  Logistic Regression          0.570345         0.581157\n",
       "2                  KNN          0.770065         0.568563"
      ]
     },
     "execution_count": 83,
     "metadata": {},
     "output_type": "execute_result"
    }
   ],
   "source": [
    "akurasi"
   ]
  },
  {
   "cell_type": "code",
   "execution_count": 89,
   "id": "4d870149-24f5-4271-9a89-e5bd34ad7d44",
   "metadata": {},
   "outputs": [
    {
     "data": {
      "image/png": "[encoded data removed]",
      "text/plain": [
       "<Figure size 1008x720 with 2 Axes>"
      ]
     },
     "metadata": {
      "needs_background": "light"
     },
     "output_type": "display_data"
    }
   ],
   "source": [
    "fig, axes = plt.subplots(1,2, figsize=(14,10))\n",
    "\n",
    "axes[0].bar(akurasi['Algoritma'], akurasi['Akurasi Training'] , color='lightcoral')\n",
    "\n",
    "axes[0].set_title('Perbandingan Model Algoritma Pada Data Training', size=16)\n",
    "axes[0].set_ylabel('Akurasi', size=14)\n",
    "\n",
    "axes[1].bar(akurasi['Algoritma'], akurasi['Akurasi Testing'] , color='green')\n",
    "\n",
    "axes[1].set_title('Perbandingan Model Algoritma Pada Data Testing', size=16)\n",
    "axes[1].set_ylabel('Akurasi', size=14)\n",
    "\n",
    "\n",
    "plt.show()"
   ]
  }
 ],
 "metadata": {
  "colab": {
   "provenance": []
  },
  "kernelspec": {
   "display_name": "Python 3 (ipykernel)",
   "language": "python",
   "name": "python3"
  },
  "language_info": {
   "codemirror_mode": {
    "name": "ipython",
    "version": 3
   },
   "file_extension": ".py",
   "mimetype": "text/x-python",
   "name": "python",
   "nbconvert_exporter": "python",
   "pygments_lexer": "ipython3",
   "version": "3.8.10"
  }
 },
 "nbformat": 4,
 "nbformat_minor": 5
}
